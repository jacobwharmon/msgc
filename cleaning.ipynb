{
 "cells": [
  {
   "cell_type": "code",
   "execution_count": 1,
   "metadata": {},
   "outputs": [],
   "source": [
    "import pandas as pd\n",
    "import pyreadstat\n",
    "import numpy as np\n",
    "import os\n",
    "import matplotlib.pyplot as plt\n",
    "\n",
    "from msgc_tools import variables_dict # dict definining a particular subset of columns, as well as their integer to category label mappings (default behavior is the '01_22' version)\n",
    "variables_dict_01_22 = variables_dict('01_22')\n",
    "variables_dict_91_00 = variables_dict('91_00') \n",
    "\n",
    "from msgc_tools import county_types # dict segmenting counties into metropolitan, micropolitan, and rural\n",
    "from msgc_tools import statute_codes # dict of long description forms of the numeric statutes\n",
    "\n",
    "DATA_PATH = \"..\\\\data\\\\UMN Data\\\\\""
   ]
  },
  {
   "cell_type": "code",
   "execution_count": 8,
   "metadata": {},
   "outputs": [],
   "source": [
    "raw_data_01_22, meta_data_01_22 = pyreadstat.read_sav(f\"{DATA_PATH}File01_22.sav\")\n",
    "\n",
    "# keeping subset of variables\n",
    "df_01_22 = raw_data_01_22[[*variables_dict_01_22.keys()]].copy()\n",
    "\n",
    "# mapping integer categories to their string counterparts\n",
    "for var, info in variables_dict_01_22.items():\n",
    "    if info['levels'] is not None:\n",
    "        df_01_22[var] = df_01_22[var].astype(str).map(variables_dict_01_22[var]['levels'])\n",
    "\n",
    "# everything lowercase\n",
    "df_01_22 = df_01_22.map(lambda x: x.lower() if isinstance(x, str) else x)"
   ]
  },
  {
   "cell_type": "code",
   "execution_count": 9,
   "metadata": {},
   "outputs": [],
   "source": [
    "raw_data_91_00, meta_data_91_00 = pyreadstat.read_sav(f\"{DATA_PATH}PublicFile91_00.sav\")\n",
    "\n",
    "# keeping subset of variables\n",
    "df_91_00 = raw_data_91_00[[*variables_dict_91_00.keys()]].copy()\n",
    "\n",
    "# mapping integer categories to their string counterparts\n",
    "for var, info in variables_dict_91_00.items():\n",
    "    if info['levels'] is not None:\n",
    "        df_91_00[var] = df_91_00[var].astype(str).map(variables_dict_91_00[var]['levels'])\n",
    "\n",
    "# everything lowercase\n",
    "df_91_00 = df_91_00.map(lambda x: x.lower() if isinstance(x, str) else x)\n",
    "\n",
    "# Things in 91_00 data that need to change to match 01_22 data\n",
    "# doff is mmddyyyy\n",
    "df_91_00['doff'] = pd.to_datetime(df_91_00['doff'], format='%M%d%Y').dt.date\n",
    "\n",
    "# rename offense to Offense, jail to prison, caseno to chargeid\n",
    "df_91_00.rename(columns={'offense': 'Offense', 'caseno': 'chargeid'}, inplace=True)"
   ]
  },
  {
   "cell_type": "code",
   "execution_count": 10,
   "metadata": {},
   "outputs": [],
   "source": [
    "# Stacking 01_22 and 91_00 data vertically with NAs for the columns that 91_00 doesn't have\n",
    "df = pd.concat([df_01_22, df_91_00], axis=0, ignore_index=True)"
   ]
  },
  {
   "cell_type": "code",
   "execution_count": 11,
   "metadata": {},
   "outputs": [],
   "source": [
    "# Following Nick's cleaning\n",
    "df['priorfelonies'] = df['totprior'].clip(upper=10)\n",
    "\n",
    "df['race'] = df['race'].replace('corp', np.nan).replace('unk', np.nan)\n",
    "\n",
    "df['severity_reg'] = np.where(df['severity'].isin(['1','2','3','4','5','6','7','8','9','10','11','murder 1']), df['severity'], np.nan)\n",
    "df['severity_sex'] = np.where(df['severity'].isin(['a','b','c','d','e','f','g','h','i']), df['severity'], np.nan)\n",
    "df['severity_drug'] = np.where(df['severity'].isin(['d1','d2','d3','d4','d5','d6','d7','d8','d9']), df['severity'], np.nan)\n",
    "\n",
    "df['ageoff'] = np.where(df['ageoff'] == 0, np.nan, df['ageoff'])\n",
    "df['agesent'] = np.where(df['agesent'] == 0, np.nan, df['agesent'])\n",
    "\n",
    "df['subsequent_combined'] = np.where(df[['subwpn','subsex','subdrug','subdwi','subfailr','Subburg']].eq('yes').any(axis=1), 'yes', 'no')\n",
    "\n",
    "df['probation'] = np.select([df['typeprob'] == 'none', df['typeprob'].isin(['supervised', 'unsupervised', 'court'])],\n",
    "                            ['no','yes'],\n",
    "                            default = np.nan)\n",
    "\n",
    "df['county_type'] = df['county'].map(county_types())\n",
    "df['statute_long'] = df['statute'].map(statute_codes())\n",
    "\n",
    "df['judge_id'] = (df['jfname']+'_'+df['jlname']).apply(hash)\n",
    "\n",
    "df = df[df['sex'] != 'corp']"
   ]
  },
  {
   "cell_type": "code",
   "execution_count": 12,
   "metadata": {},
   "outputs": [],
   "source": [
    "# Measures for departures\n",
    "df['departure_SC'] = (df['presumpt'] == 'stay') & (df['prison'] == 'yes') # (df['departure_SC'] != (df['dispdep'] == 'aggravated')).sum() # 2518 more departure_SC's than dispdep==aggravated's\n",
    "\n",
    "df['departure_CS'] = (df['presumpt'] == 'commit') & (df['prison'] == 'no') # (df['departure_CS'] != (df['dispdep'] == 'mitigated')).sum() # 50 mismatches\n",
    "\n",
    "df['departure_grid'] = np.select(condlist = [df['confine'] < df['Mintime'],\n",
    "                                            df['confine'] > df['Maxtime']],\n",
    "                                 choicelist = [df['confine'] - df['Mintime'],\n",
    "                                                df['confine'] - df['Maxtime']],\n",
    "                                 default = 0)\n",
    "\n",
    "df['departure_presumpt'] = df['confine'] - df['time']"
   ]
  }
 ],
 "metadata": {
  "kernelspec": {
   "display_name": "msgc",
   "language": "python",
   "name": "python3"
  },
  "language_info": {
   "codemirror_mode": {
    "name": "ipython",
    "version": 3
   },
   "file_extension": ".py",
   "mimetype": "text/x-python",
   "name": "python",
   "nbconvert_exporter": "python",
   "pygments_lexer": "ipython3",
   "version": "3.9.19"
  }
 },
 "nbformat": 4,
 "nbformat_minor": 2
}
